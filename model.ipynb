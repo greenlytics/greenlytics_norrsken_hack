{
  "nbformat": 4,
  "nbformat_minor": 0,
  "metadata": {
    "colab": {
      "name": "model.ipynb",
      "version": "0.3.2",
      "provenance": [],
      "include_colab_link": true
    },
    "kernelspec": {
      "name": "python3",
      "display_name": "Python 3"
    }
  },
  "cells": [
    {
      "cell_type": "markdown",
      "metadata": {
        "id": "view-in-github",
        "colab_type": "text"
      },
      "source": [
        "<a href=\"https://colab.research.google.com/github/greenlytics/greenlytics_norrsken_hack/blob/master/model.ipynb\" target=\"_parent\"><img src=\"https://colab.research.google.com/assets/colab-badge.svg\" alt=\"Open In Colab\"/></a>"
      ]
    },
    {
      "cell_type": "code",
      "metadata": {
        "id": "xnvJE2J5SHMO",
        "colab_type": "code",
        "colab": {}
      },
      "source": [
        "import numpy as np\n",
        "from matplotlib import pyplot\n",
        "from random import random\n",
        "from random import randint\n",
        "from numpy import array\n",
        "from numpy import zeros\n",
        "from keras.models import Sequential\n",
        "from keras.layers import Conv2D\n",
        "from keras.layers import MaxPooling2D\n",
        "from keras.layers import LSTM, GRU\n",
        "from keras.layers import Dense\n",
        "from keras.layers import Flatten\n",
        "from keras.layers import TimeDistributed"
      ],
      "execution_count": 0,
      "outputs": []
    },
    {
      "cell_type": "code",
      "metadata": {
        "id": "7D_R3FiqYk0t",
        "colab_type": "code",
        "colab": {}
      },
      "source": [
        "# generate the next frame in the sequence\n",
        "def next_frame(last_step, last_frame, column):\n",
        "\t# define the scope of the next step\n",
        "\tlower = max(0, last_step-1)\n",
        "\tupper = min(last_frame.shape[0]-1, last_step+1)\n",
        "\t# choose the row index for the next step\n",
        "\tstep = randint(lower, upper)\n",
        "\t# copy the prior frame\n",
        "\tframe = last_frame.copy()\n",
        "\t# add the new step\n",
        "\tframe[step, column] = 1\n",
        "\treturn frame, step"
      ],
      "execution_count": 0,
      "outputs": []
    },
    {
      "cell_type": "code",
      "metadata": {
        "id": "c1l9iJ2qSH-w",
        "colab_type": "code",
        "colab": {}
      },
      "source": [
        "# generate a sequence of frames of a dot moving across an image\n",
        "def build_frames(size):\n",
        "\tframes = list()\n",
        "\t# create the first frame\n",
        "\tframe = zeros((size,size))\n",
        "\tstep = randint(0, size-1)\n",
        "\t# decide if we are heading left or right\n",
        "\tright = 1 if random() < 0.5 else 0\n",
        "\tcol = 0 if right else size-1\n",
        "\tframe[step, col] = 1\n",
        "\tframes.append(frame)\n",
        "\t# create all remaining frames\n",
        "\tfor i in range(1, size):\n",
        "\t\tcol = i if right else size-1-i\n",
        "\t\tframe, step = next_frame(step, frame, col)\n",
        "\t\tframes.append(frame)\n",
        "\treturn frames, right"
      ],
      "execution_count": 0,
      "outputs": []
    },
    {
      "cell_type": "code",
      "metadata": {
        "id": "i9kcn_ICWTwK",
        "colab_type": "code",
        "colab": {}
      },
      "source": [
        "# generate multiple sequences of frames and reshape for network input\n",
        "def generate_examples(size, n_patterns):\n",
        "  X, y = list(), list()\n",
        "  for _ in range(n_patterns):\n",
        "    frames, right = build_frames(size)\n",
        "    X.append(frames[:int(size/2)])\n",
        "    y.append(frames[int(size/2)])\n",
        "\n",
        "  X = array(X)\n",
        "  y = array(y)\n",
        "  return X, y"
      ],
      "execution_count": 0,
      "outputs": []
    },
    {
      "cell_type": "code",
      "metadata": {
        "id": "W8ye5cDBl18I",
        "colab_type": "code",
        "colab": {}
      },
      "source": [
        "X, y = generate_examples(10, 19)"
      ],
      "execution_count": 0,
      "outputs": []
    },
    {
      "cell_type": "code",
      "metadata": {
        "id": "cGScbbE9i84i",
        "colab_type": "code",
        "outputId": "a152f42a-61cb-47f9-e79f-3430629efe64",
        "colab": {
          "base_uri": "https://localhost:8080/",
          "height": 193
        }
      },
      "source": [
        "# generate sequence of frames\n",
        "size = 10\n",
        "frames, right = build_frames(size)\n",
        "# plot all frames\n",
        "pyplot.figure(figsize=(30,10))\n",
        "for i in range(size):\n",
        "\t# create a gray scale subplot for each frame\n",
        "\tpyplot.subplot(1, size, i+1)\n",
        "\tpyplot.imshow(frames[i], cmap='Greys')\n",
        "\t# turn of the scale to make it clearer\n",
        "\tax = pyplot.gca()\n",
        "\tax.get_xaxis().set_visible(False)\n",
        "\tax.get_yaxis().set_visible(False)\n",
        "# show the plot\n",
        "pyplot.show()"
      ],
      "execution_count": 100,
      "outputs": [
        {
          "output_type": "display_data",
          "data": {
            "image/png": "[encoded data removed]",
            "text/plain": [
              "<Figure size 2160x720 with 10 Axes>"
            ]
          },
          "metadata": {
            "tags": []
          }
        }
      ]
    },
    {
      "cell_type": "code",
      "metadata": {
        "id": "ihMvmIfIqNIR",
        "colab_type": "code",
        "colab": {}
      },
      "source": [
        "def build_model():\n",
        "    latent_dim = 30\n",
        "    \n",
        "    X_decode = Input(shape=(None, n_bins))\n",
        "    h_decode_input1 = Input(shape=(latent_dim,))\n",
        "    c_decode_input1 = Input(shape=(latent_dim,))    \n",
        "    h_decode_input2 = Input(shape=(latent_dim,))\n",
        "    c_decode_input2 = Input(shape=(latent_dim,))    \n",
        "    \n",
        "    # Encoder\n",
        "    h_out, h_encode_output1, c_encode_output1 = LSTM(latent_dim, return_sequences=True, return_state=True)(X_encode)\n",
        "    _, h_encode_output2, c_encode_output2 = LSTM(latent_dim, return_state=True)(h_out)\n",
        "    model_encoder = Model(X_encode, [h_encode_output1, c_encode_output1, h_encode_output2, c_encode_output2])\n",
        "\n",
        "    # Decoder\n",
        "    decoder_lstm1 = LSTM(latent_dim, return_sequences=True, return_state=True)\n",
        "    decoder_lstm2 = LSTM(latent_dim, return_sequences=True, return_state=True)\n",
        "    decoder_dense = Dense(units=n_bins, activation='softmax')\n",
        "    h_out, h_decode_output1, c_decode_output1 = decoder_lstm1(X_decode, initial_state=[h_decode_input1, c_decode_input1])\n",
        "    h_out, h_decode_output2, c_decode_output2 = decoder_lstm2(h_out, initial_state=[h_decode_input2, c_decode_input2])\n",
        "    y_cat = decoder_dense(h_out)\n",
        "    model_decoder = Model([X_decode, h_decode_input1, c_decode_input1, h_decode_input2, c_decode_input2], [y_cat, h_decode_output1, c_decode_output1, h_decode_output2, c_decode_output2])\n",
        "\n",
        "    # Seq2seq\n",
        "    h_out, _, _ = decoder_lstm1(X_decode, initial_state=[h_encode_output1, c_encode_output1])\n",
        "    h_out, _, _ = decoder_lstm2(h_out, initial_state=[h_encode_output2, c_encode_output2])\n",
        "    y_cat = decoder_dense(h_out)\n",
        "    model_seq2seq = Model([X_encode, X_decode], y_cat)\n",
        "    \n",
        "    return model_seq2seq, model_encoder, model_decoder"
      ],
      "execution_count": 0,
      "outputs": []
    },
    {
      "cell_type": "code",
      "metadata": {
        "id": "CAcVHmIUi9UP",
        "colab_type": "code",
        "colab": {
          "base_uri": "https://localhost:8080/",
          "height": 375
        },
        "outputId": "659c32ff-f7f6-42d0-f21d-927d73db19a7"
      },
      "source": [
        "# define the model\n",
        "latent_dim = 50\n",
        "X_encode = Input(shape=(None, int(size/2), size, size))\n",
        "X_decode = Input(shape=(None, 1))\n",
        "c_decode_input = Input(shape=(None, latent_dim,3))    \n",
        "\n",
        "h_out = TimeDistributed(Conv2D(2, (2,2), activation='relu'))(X_encode)\n",
        "h_out = TimeDistributed(Flatten())(h_out)\n",
        "h_out, c_encode_output = GRU(latent_dim, return_sequences=False, return_state=True)(h_out)\n",
        "model_encoder = Model(X_encode, [h_out, c_encode_output])\n",
        "\n",
        "decoder_gru = GRU(latent_dim, return_sequences=True, return_state=True)\n",
        "decoder_dense = Dense(units=1, activation='linear')\n",
        "h_out, c_decode_output = decoder_gru(h_out, initial_state=c_decode_input)\n",
        "y_cat = decoder_dense(h_out)\n",
        "model_decoder = Model([X_decode, c_decode_input], [y_cat, c_decode_output])\n",
        "\n",
        "# Seq2seq\n",
        "h_out, _, _ = decoder_gru(X_decode, initial_state=[c_encode_output])\n",
        "y_cat = decoder_dense(h_out)\n",
        "model_seq2seq = Model(X_encode, y_cat)\n",
        "\n",
        "model_seq2seq.summary()"
      ],
      "execution_count": 107,
      "outputs": [
        {
          "output_type": "error",
          "ename": "ValueError",
          "evalue": "ignored",
          "traceback": [
            "\u001b[0;31m---------------------------------------------------------------------------\u001b[0m",
            "\u001b[0;31mValueError\u001b[0m                                Traceback (most recent call last)",
            "\u001b[0;32m<ipython-input-107-29512251b1d4>\u001b[0m in \u001b[0;36m<module>\u001b[0;34m()\u001b[0m\n\u001b[1;32m     11\u001b[0m \u001b[0mdecoder_gru\u001b[0m \u001b[0;34m=\u001b[0m \u001b[0mGRU\u001b[0m\u001b[0;34m(\u001b[0m\u001b[0mlatent_dim\u001b[0m\u001b[0;34m,\u001b[0m \u001b[0mreturn_sequences\u001b[0m\u001b[0;34m=\u001b[0m\u001b[0;32mTrue\u001b[0m\u001b[0;34m,\u001b[0m \u001b[0mreturn_state\u001b[0m\u001b[0;34m=\u001b[0m\u001b[0;32mTrue\u001b[0m\u001b[0;34m)\u001b[0m\u001b[0;34m\u001b[0m\u001b[0;34m\u001b[0m\u001b[0m\n\u001b[1;32m     12\u001b[0m \u001b[0mdecoder_dense\u001b[0m \u001b[0;34m=\u001b[0m \u001b[0mDense\u001b[0m\u001b[0;34m(\u001b[0m\u001b[0munits\u001b[0m\u001b[0;34m=\u001b[0m\u001b[0;36m1\u001b[0m\u001b[0;34m,\u001b[0m \u001b[0mactivation\u001b[0m\u001b[0;34m=\u001b[0m\u001b[0;34m'linear'\u001b[0m\u001b[0;34m)\u001b[0m\u001b[0;34m\u001b[0m\u001b[0;34m\u001b[0m\u001b[0m\n\u001b[0;32m---> 13\u001b[0;31m \u001b[0mh_out\u001b[0m\u001b[0;34m,\u001b[0m \u001b[0mc_decode_output\u001b[0m \u001b[0;34m=\u001b[0m \u001b[0mdecoder_gru\u001b[0m\u001b[0;34m(\u001b[0m\u001b[0mh_out\u001b[0m\u001b[0;34m,\u001b[0m \u001b[0minitial_state\u001b[0m\u001b[0;34m=\u001b[0m\u001b[0mc_decode_input\u001b[0m\u001b[0;34m)\u001b[0m\u001b[0;34m\u001b[0m\u001b[0;34m\u001b[0m\u001b[0m\n\u001b[0m\u001b[1;32m     14\u001b[0m \u001b[0my_cat\u001b[0m \u001b[0;34m=\u001b[0m \u001b[0mdecoder_dense\u001b[0m\u001b[0;34m(\u001b[0m\u001b[0mh_out\u001b[0m\u001b[0;34m)\u001b[0m\u001b[0;34m\u001b[0m\u001b[0;34m\u001b[0m\u001b[0m\n\u001b[1;32m     15\u001b[0m \u001b[0mmodel_decoder\u001b[0m \u001b[0;34m=\u001b[0m \u001b[0mModel\u001b[0m\u001b[0;34m(\u001b[0m\u001b[0;34m[\u001b[0m\u001b[0mX_decode\u001b[0m\u001b[0;34m,\u001b[0m \u001b[0mc_decode_input\u001b[0m\u001b[0;34m]\u001b[0m\u001b[0;34m,\u001b[0m \u001b[0;34m[\u001b[0m\u001b[0my_cat\u001b[0m\u001b[0;34m,\u001b[0m \u001b[0mc_decode_output\u001b[0m\u001b[0;34m]\u001b[0m\u001b[0;34m)\u001b[0m\u001b[0;34m\u001b[0m\u001b[0;34m\u001b[0m\u001b[0m\n",
            "\u001b[0;32m/usr/local/lib/python3.6/dist-packages/keras/layers/recurrent.py\u001b[0m in \u001b[0;36m__call__\u001b[0;34m(self, inputs, initial_state, constants, **kwargs)\u001b[0m\n\u001b[1;32m    574\u001b[0m             \u001b[0;32mif\u001b[0m \u001b[0;34m'constants'\u001b[0m \u001b[0;32min\u001b[0m \u001b[0mkwargs\u001b[0m\u001b[0;34m:\u001b[0m\u001b[0;34m\u001b[0m\u001b[0;34m\u001b[0m\u001b[0m\n\u001b[1;32m    575\u001b[0m                 \u001b[0mkwargs\u001b[0m\u001b[0;34m.\u001b[0m\u001b[0mpop\u001b[0m\u001b[0;34m(\u001b[0m\u001b[0;34m'constants'\u001b[0m\u001b[0;34m)\u001b[0m\u001b[0;34m\u001b[0m\u001b[0;34m\u001b[0m\u001b[0m\n\u001b[0;32m--> 576\u001b[0;31m             \u001b[0moutput\u001b[0m \u001b[0;34m=\u001b[0m \u001b[0msuper\u001b[0m\u001b[0;34m(\u001b[0m\u001b[0mRNN\u001b[0m\u001b[0;34m,\u001b[0m \u001b[0mself\u001b[0m\u001b[0;34m)\u001b[0m\u001b[0;34m.\u001b[0m\u001b[0m__call__\u001b[0m\u001b[0;34m(\u001b[0m\u001b[0mfull_input\u001b[0m\u001b[0;34m,\u001b[0m \u001b[0;34m**\u001b[0m\u001b[0mkwargs\u001b[0m\u001b[0;34m)\u001b[0m\u001b[0;34m\u001b[0m\u001b[0;34m\u001b[0m\u001b[0m\n\u001b[0m\u001b[1;32m    577\u001b[0m             \u001b[0mself\u001b[0m\u001b[0;34m.\u001b[0m\u001b[0minput_spec\u001b[0m \u001b[0;34m=\u001b[0m \u001b[0moriginal_input_spec\u001b[0m\u001b[0;34m\u001b[0m\u001b[0;34m\u001b[0m\u001b[0m\n\u001b[1;32m    578\u001b[0m             \u001b[0;32mreturn\u001b[0m \u001b[0moutput\u001b[0m\u001b[0;34m\u001b[0m\u001b[0;34m\u001b[0m\u001b[0m\n",
            "\u001b[0;32m/usr/local/lib/python3.6/dist-packages/keras/engine/base_layer.py\u001b[0m in \u001b[0;36m__call__\u001b[0;34m(self, inputs, **kwargs)\u001b[0m\n\u001b[1;32m    406\u001b[0m                 \u001b[0;31m# Raise exceptions in case the input is not compatible\u001b[0m\u001b[0;34m\u001b[0m\u001b[0;34m\u001b[0m\u001b[0;34m\u001b[0m\u001b[0m\n\u001b[1;32m    407\u001b[0m                 \u001b[0;31m# with the input_spec specified in the layer constructor.\u001b[0m\u001b[0;34m\u001b[0m\u001b[0;34m\u001b[0m\u001b[0;34m\u001b[0m\u001b[0m\n\u001b[0;32m--> 408\u001b[0;31m                 \u001b[0mself\u001b[0m\u001b[0;34m.\u001b[0m\u001b[0massert_input_compatibility\u001b[0m\u001b[0;34m(\u001b[0m\u001b[0minputs\u001b[0m\u001b[0;34m)\u001b[0m\u001b[0;34m\u001b[0m\u001b[0;34m\u001b[0m\u001b[0m\n\u001b[0m\u001b[1;32m    409\u001b[0m \u001b[0;34m\u001b[0m\u001b[0m\n\u001b[1;32m    410\u001b[0m                 \u001b[0;31m# Collect input shapes to build layer.\u001b[0m\u001b[0;34m\u001b[0m\u001b[0;34m\u001b[0m\u001b[0;34m\u001b[0m\u001b[0m\n",
            "\u001b[0;32m/usr/local/lib/python3.6/dist-packages/keras/engine/base_layer.py\u001b[0m in \u001b[0;36massert_input_compatibility\u001b[0;34m(self, inputs)\u001b[0m\n\u001b[1;32m    303\u001b[0m                                      \u001b[0mself\u001b[0m\u001b[0;34m.\u001b[0m\u001b[0mname\u001b[0m \u001b[0;34m+\u001b[0m \u001b[0;34m': expected ndim='\u001b[0m \u001b[0;34m+\u001b[0m\u001b[0;34m\u001b[0m\u001b[0;34m\u001b[0m\u001b[0m\n\u001b[1;32m    304\u001b[0m                                      \u001b[0mstr\u001b[0m\u001b[0;34m(\u001b[0m\u001b[0mspec\u001b[0m\u001b[0;34m.\u001b[0m\u001b[0mndim\u001b[0m\u001b[0;34m)\u001b[0m \u001b[0;34m+\u001b[0m \u001b[0;34m', found ndim='\u001b[0m \u001b[0;34m+\u001b[0m\u001b[0;34m\u001b[0m\u001b[0;34m\u001b[0m\u001b[0m\n\u001b[0;32m--> 305\u001b[0;31m                                      str(K.ndim(x)))\n\u001b[0m\u001b[1;32m    306\u001b[0m             \u001b[0;32mif\u001b[0m \u001b[0mspec\u001b[0m\u001b[0;34m.\u001b[0m\u001b[0mmax_ndim\u001b[0m \u001b[0;32mis\u001b[0m \u001b[0;32mnot\u001b[0m \u001b[0;32mNone\u001b[0m\u001b[0;34m:\u001b[0m\u001b[0;34m\u001b[0m\u001b[0;34m\u001b[0m\u001b[0m\n\u001b[1;32m    307\u001b[0m                 \u001b[0mndim\u001b[0m \u001b[0;34m=\u001b[0m \u001b[0mK\u001b[0m\u001b[0;34m.\u001b[0m\u001b[0mndim\u001b[0m\u001b[0;34m(\u001b[0m\u001b[0mx\u001b[0m\u001b[0;34m)\u001b[0m\u001b[0;34m\u001b[0m\u001b[0;34m\u001b[0m\u001b[0m\n",
            "\u001b[0;31mValueError\u001b[0m: Input 0 is incompatible with layer gru_6: expected ndim=3, found ndim=2"
          ]
        }
      ]
    },
    {
      "cell_type": "code",
      "metadata": {
        "id": "yRJtnKsBoVBb",
        "colab_type": "code",
        "colab": {}
      },
      "source": [
        ""
      ],
      "execution_count": 0,
      "outputs": []
    }
  ]
}