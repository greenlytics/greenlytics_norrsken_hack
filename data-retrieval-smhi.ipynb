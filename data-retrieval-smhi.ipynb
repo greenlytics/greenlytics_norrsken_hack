{
 "cells": [
  {
   "cell_type": "code",
   "execution_count": 1,
   "metadata": {
    "collapsed": true
   },
   "outputs": [
    {
     "name": "stderr",
     "output_type": "stream",
     "text": [
      "D:\\Utils\\Anaconda3\\envs\\p36\\lib\\site-packages\\requests\\__init__.py:91: RequestsDependencyWarning: urllib3 (1.25.3) or chardet (3.0.4) doesn't match a supported version!\n",
      "  RequestsDependencyWarning)\n"
     ]
    }
   ],
   "source": [
    "import requests\n",
    "import pandas as pd\n",
    "import json\n",
    "import numpy as np\n",
    "import pandas as pd\n",
    "from s3fs.core import S3FileSystem\n",
    "import boto3\n"
   ]
  },
  {
   "cell_type": "code",
   "execution_count": null,
   "metadata": {},
   "outputs": [],
   "source": [
    "stations = [{'name': 'Adelsö A' , 'id': 97280}, {'name': 'Tullinge A' , 'id': 97100}]\n",
    "df = pd.DataFrame()\n",
    "for station in stations:\n",
    "    station_url = \"https://opendata-download-metobs.smhi.se/api/version/latest/parameter/14/station/{0}/period/latest-months/data.json\".format(station['id'])\n",
    "    r = requests.get(url = station_url)\n",
    "    data = r.json()\n",
    "    station_df = pd.DataFrame(data['value'])\n",
    "    station_df['date'] = pd.to_datetime(station_df['date'], unit='ms')\n",
    "    station_df = station_df.set_index('date')\n",
    "    station_df.index = pd.to_datetime(station_df.index)\n",
    "    station_df.columns = pd.MultiIndex.from_product([[station['name']], station_df.columns], names=['station', 'data'])\n",
    "    df = pd.concat([df,station_df], axis=1)\n",
    "df.to_csv('smhi.csv')"
   ]
  },
  {
   "cell_type": "code",
   "execution_count": null,
   "metadata": {},
   "outputs": [],
   "source": [
    "keys = []\n",
    "bucket_name = '<your destination s3 path>'\n",
    "s3boto = boto3.resource('s3')\n",
    "my_bucket = s3boto.Bucket(bucket_name)\n",
    "for object_summary in my_bucket.objects.filter(Prefix=\"norrsken/ewd\"):\n",
    "    keys.append(object_summary.key)"
   ]
  },
  {
   "cell_type": "code",
   "execution_count": 2,
   "metadata": {
    "collapsed": true
   },
   "outputs": [
    {
     "ename": "NameError",
     "evalue": "name 'keys' is not defined",
     "output_type": "error",
     "traceback": [
      "\u001b[1;31m---------------------------------------------------------------------------\u001b[0m",
      "\u001b[1;31mNameError\u001b[0m                                 Traceback (most recent call last)",
      "\u001b[1;32m<ipython-input-2-4ea40a08a9b9>\u001b[0m in \u001b[0;36m<module>\u001b[1;34m()\u001b[0m\n\u001b[0;32m      4\u001b[0m \u001b[0mdata\u001b[0m \u001b[1;33m=\u001b[0m \u001b[1;33m[\u001b[0m\u001b[1;33m]\u001b[0m\u001b[1;33m\u001b[0m\u001b[0m\n\u001b[0;32m      5\u001b[0m \u001b[0ms3fs\u001b[0m \u001b[1;33m=\u001b[0m \u001b[0mS3FileSystem\u001b[0m\u001b[1;33m(\u001b[0m\u001b[1;33m)\u001b[0m\u001b[1;33m\u001b[0m\u001b[0m\n\u001b[1;32m----> 6\u001b[1;33m \u001b[1;32mfor\u001b[0m \u001b[0mkey\u001b[0m \u001b[1;32min\u001b[0m \u001b[0mkeys\u001b[0m\u001b[1;33m:\u001b[0m\u001b[1;33m\u001b[0m\u001b[0m\n\u001b[0m\u001b[0;32m      7\u001b[0m     \u001b[0marray\u001b[0m \u001b[1;33m=\u001b[0m \u001b[0mnp\u001b[0m\u001b[1;33m.\u001b[0m\u001b[0mload\u001b[0m\u001b[1;33m(\u001b[0m\u001b[0ms3fs\u001b[0m\u001b[1;33m.\u001b[0m\u001b[0mopen\u001b[0m\u001b[1;33m(\u001b[0m\u001b[1;34m'{}/{}'\u001b[0m\u001b[1;33m.\u001b[0m\u001b[0mformat\u001b[0m\u001b[1;33m(\u001b[0m\u001b[0mbucket_name\u001b[0m\u001b[1;33m,\u001b[0m \u001b[0mkey\u001b[0m\u001b[1;33m)\u001b[0m\u001b[1;33m)\u001b[0m\u001b[1;33m)\u001b[0m\u001b[1;33m\u001b[0m\u001b[0m\n\u001b[0;32m      8\u001b[0m     \u001b[0mdata\u001b[0m\u001b[1;33m.\u001b[0m\u001b[0mappend\u001b[0m\u001b[1;33m(\u001b[0m\u001b[0marray\u001b[0m\u001b[1;33m)\u001b[0m\u001b[1;33m\u001b[0m\u001b[0m\n",
      "\u001b[1;31mNameError\u001b[0m: name 'keys' is not defined"
     ]
    }
   ],
   "source": [
    "data = []\n",
    "s3fs = S3FileSystem()\n",
    "for key in keys:\n",
    "    array = np.load(s3fs.open('{}/{}'.format(bucket_name, key)))\n",
    "    data.append(array)\n",
    "    \n",
    "smhi = pd.read_csv('smhi.csv', header=[0,1], index_col=0, parse_dates=True)\n",
    "keys_datetime = [pd.to_datetime(k.split('/')[-1].replace('.npy', '')) for k in keys]\n",
    "smhi = smhi.resample('1T').interpolate(method='linear')\n",
    "smhi = smhi[pd.to_datetime('2019-09-08 12'):pd.to_datetime('2019-09-09 12')]\n",
    "smhi = smhi[smhi.index.isin(keys_datetime)]"
   ]
  },
  {
   "cell_type": "code",
   "execution_count": null,
   "metadata": {},
   "outputs": [],
   "source": []
  }
 ],
 "metadata": {
  "kernelspec": {
   "display_name": "Python 3",
   "language": "python",
   "name": "python3"
  },
  "language_info": {
   "codemirror_mode": {
    "name": "ipython",
    "version": 3
   },
   "file_extension": ".py",
   "mimetype": "text/x-python",
   "name": "python",
   "nbconvert_exporter": "python",
   "pygments_lexer": "ipython3",
   "version": "3.6.6"
  }
 },
 "nbformat": 4,
 "nbformat_minor": 2
}
