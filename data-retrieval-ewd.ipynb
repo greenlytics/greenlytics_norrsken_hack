{
 "cells": [
  {
   "cell_type": "code",
   "execution_count": 1,
   "metadata": {
    "collapsed": true
   },
   "outputs": [
    {
     "name": "stderr",
     "output_type": "stream",
     "text": [
      "D:\\Utils\\Anaconda3\\envs\\p36\\lib\\site-packages\\requests\\__init__.py:91: RequestsDependencyWarning: urllib3 (1.25.3) or chardet (3.0.4) doesn't match a supported version!\n",
      "  RequestsDependencyWarning)\n"
     ]
    }
   ],
   "source": [
    "import pandas as pd\n",
    "\n",
    "import base64\n",
    "import numpy as np\n",
    "from io import BytesIO\n",
    "from PIL import Image\n",
    "\n",
    "import logging\n",
    "import sys\n",
    "\n",
    "import json\n",
    "import requests\n",
    "import s3fs\n",
    "import posixpath\n",
    "import os\n",
    "\n",
    "import joblib"
   ]
  },
  {
   "cell_type": "code",
   "execution_count": null,
   "metadata": {},
   "outputs": [],
   "source": [
    "data_start = \"2019-06-09 07:12\"\n",
    "data_end = \"2019-09-17\"\n",
    "location = \"stockholm\"\n",
    "dest_folder = \"<your destination s3 path>\"\n",
    "authorization = \"<your EWD authorization token>\""
   ]
  },
  {
   "cell_type": "code",
   "execution_count": null,
   "metadata": {},
   "outputs": [],
   "source": [
    "data_range = pd.date_range(data_start, data_end, freq=\"1min\")"
   ]
  },
  {
   "cell_type": "code",
   "execution_count": null,
   "metadata": {},
   "outputs": [],
   "source": [
    "def download_reftime(timestamp, location, dest_folder, authorization, overwrite=False):\n",
    "    try:\n",
    "        s3 = s3fs.S3FileSystem()\n",
    "        dest_file = posixpath.join(dest_folder, timestamp.strftime(\"%Y%m\"), \"%s.npy\" % timestamp.strftime(\"%Y%m%d%H%M\"))\n",
    "        \n",
    "        if s3.exists(dest_file) and not overwrite:\n",
    "            return (timestamp, None)\n",
    "        \n",
    "        method = \"GET\"\n",
    "        url = \"https://demo-apim.westeurope.cloudapp.azure.com/api_secure/PrecipitationAPI/3.0.0/weather/precipitation/at/%s?location=%s\" % (timestamp.strftime(\"%Y%m%d%H%M\"), location)\n",
    "\n",
    "        headers = {\"accept\": \"application/json\",\n",
    "                   \"Authorization\": authorization}\n",
    "        response = requests.request(method=method, url=url, headers=headers)\n",
    "        if response.status_code != 200:\n",
    "            return (timestamp, response.status_code)\n",
    "        \n",
    "        resp = json.loads(response.content.decode(\"utf-8\"))\n",
    "        \n",
    "        b64png = resp['canvas'][len(\"data:image/png;base64,\"):]\n",
    "        dec = base64.b64decode(b64png)\n",
    "        image = Image.open(BytesIO(dec))\n",
    "        image = image.resize((64, 61))\n",
    "        img = np.array(image)\n",
    "        img = np.flipud(img)        \n",
    "        \n",
    "        with s3.open(dest_file, mode='wb') as f:\n",
    "            np.save(f, img)\n",
    "\n",
    "        return (timestamp, 200)\n",
    "    except Exception as e:\n",
    "        return (timestamp, str(e))\n"
   ]
  },
  {
   "cell_type": "code",
   "execution_count": null,
   "metadata": {},
   "outputs": [],
   "source": [
    "with joblib.parallel_backend(\"threading\"):\n",
    "    results = joblib.Parallel(n_jobs=4)(\n",
    "                    joblib.delayed(download_reftime)(timestamp, location, dest_folder, authorization)\n",
    "                        for timestamp in data_range)"
   ]
  }
 ],
 "metadata": {
  "kernelspec": {
   "display_name": "Python 3",
   "language": "python",
   "name": "python3"
  },
  "language_info": {
   "codemirror_mode": {
    "name": "ipython",
    "version": 3
   },
   "file_extension": ".py",
   "mimetype": "text/x-python",
   "name": "python",
   "nbconvert_exporter": "python",
   "pygments_lexer": "ipython3",
   "version": "3.6.6"
  }
 },
 "nbformat": 4,
 "nbformat_minor": 2
}
